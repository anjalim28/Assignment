{
  "nbformat": 4,
  "nbformat_minor": 0,
  "metadata": {
    "colab": {
      "name": "DAY_3_ASSIGNMENT.ipynb",
      "provenance": []
    },
    "kernelspec": {
      "name": "python3",
      "display_name": "Python 3"
    },
    "language_info": {
      "name": "python"
    }
  },
  "cells": [
    {
      "cell_type": "markdown",
      "source": [
        "DAY 3 ASSIGNMENT\n",
        "\n",
        "From a dictionary, print the Key whose Value is maximum in the dictionary."
      ],
      "metadata": {
        "id": "RTJiMyjl0Lhg"
      }
    },
    {
      "cell_type": "code",
      "source": [
        "d = {\"sugar\" : \"400\",\n",
        "\n",
        "        \"nykaa\" :\"123\",\n",
        "\n",
        "        \"faces\":\"700\"\n",
        "\n",
        "        }\n",
        "\n",
        "max_key=max(d,key=d.get)\n",
        "\n",
        "print(max_key)"
      ],
      "metadata": {
        "colab": {
          "base_uri": "https://localhost:8080/"
        },
        "id": "UNWeWSyv0W5v",
        "outputId": "1d1b2b49-f0c2-427a-963c-42b462a7e1a0"
      },
      "execution_count": 1,
      "outputs": [
        {
          "output_type": "stream",
          "name": "stdout",
          "text": [
            "faces\n"
          ]
        }
      ]
    }
  ]
}