{
  "nbformat": 4,
  "nbformat_minor": 0,
  "metadata": {
    "colab": {
      "name": "AssignmentZero_to_Hero.ipynb",
      "provenance": []
    },
    "kernelspec": {
      "name": "python3",
      "display_name": "Python 3"
    },
    "language_info": {
      "name": "python"
    }
  },
  "cells": [
    {
      "cell_type": "markdown",
      "source": [
        "DAY 1 ASSIGNMENT\n",
        "\n",
        "Taking multiple inputs and taking its sum.\n"
      ],
      "metadata": {
        "id": "5AH_so-P1xph"
      }
    },
    {
      "cell_type": "code",
      "source": [
        "x = input(\"Enter numbers : -\").split()\n",
        "sum1 = 0\n",
        "for i in x:\n",
        "  sum1 =sum1 + int(i) \n",
        "\n",
        "print(sum1)"
      ],
      "metadata": {
        "colab": {
          "base_uri": "https://localhost:8080/"
        },
        "id": "spOUmlVM114s",
        "outputId": "820b3288-e074-48c0-ef74-432ec2acded2"
      },
      "execution_count": 1,
      "outputs": [
        {
          "output_type": "stream",
          "name": "stdout",
          "text": [
            "Enter numbers : -1 2 3 4 5\n",
            "15\n"
          ]
        }
      ]
    },
    {
      "cell_type": "markdown",
      "source": [
        "DAY 2 ASSIGNMENT:\n",
        "\n",
        "Let's say, you are in a lottery competition. A group of words has been given to you and you are asked to select any one character(only alphabets) which will get you a prize. You are a smart person and you thought of a way to select a character that will have maximum chances of winning a prize i.e. select the highest occurring character from the words.\n",
        "\n"
      ],
      "metadata": {
        "id": "AH0nCFI-2YTG"
      }
    },
    {
      "cell_type": "code",
      "source": [
        "x  = input(\"Enter string :- \")\n",
        "v = [0,1,4,6,8]\n",
        "z= set()\n",
        "for i in v:\n",
        "  z.add(x[i])\n",
        "tofind = input(\"Enter a character :- \").lower()\n",
        "b = True\n",
        "for i in z:\n",
        "  if(i == tofind):\n",
        "    print(\"Congratulations ! You Won the Lottory.\")\n",
        "    b=False\n",
        "    break;\n",
        "if(b==True):\n",
        "  print(\"Better Luck Next Time.\")"
      ],
      "metadata": {
        "colab": {
          "base_uri": "https://localhost:8080/"
        },
        "id": "HdTx72Rd20nM",
        "outputId": "337dfaaa-3975-4f06-e1f1-9c9e45b8b746"
      },
      "execution_count": 6,
      "outputs": [
        {
          "output_type": "stream",
          "name": "stdout",
          "text": [
            "Enter string :- anjali maheshwari\n",
            "Enter a character :- r\n",
            "Better Luck Next Time.\n"
          ]
        }
      ]
    }
  ]
}